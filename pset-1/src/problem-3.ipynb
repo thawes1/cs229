{
 "cells": [
  {
   "cell_type": "code",
   "execution_count": 3,
   "metadata": {},
   "outputs": [
    {
     "data": {
      "text/latex": [
       "\n",
       "Solution to 3(a)\n",
       "\n",
       "Asked to prove that the Poisson distribution is part of the exponential family.\n",
       "\n",
       "The Poisson distribution is defined as:\n",
       "\n",
       "\\begin{align*}\n",
       "p(y ; \\lambda) &= \\frac{e^{-\\lambda} \\lambda^{y}}{y!}\\\\\n",
       "    &= \\frac{e^{-\\lambda} e^{\\log \\lambda^{y}}}{y!}\\\\\n",
       "    &= \\frac{1}{y!} \\exp (y\\log \\lambda - \\lambda).\\\\\n",
       "\\end{align*}\n",
       "\n",
       "Note that the exponential family is characterised by:\n",
       "\n",
       "$$p(y ; \\eta) = b(y) \\exp [\\eta^{T} T(y) - a(\\eta)].$$\n",
       "\n",
       "So the Poisson distribution is part of the exponential family with $T(y) = y$, $b(y) = \\frac{1}{y!}$, $\\eta = \\log \\lambda$, and $a(\\eta) = \\lambda = \\exp (\\eta)$.\n"
      ],
      "text/plain": [
       "<IPython.core.display.Latex object>"
      ]
     },
     "metadata": {},
     "output_type": "display_data"
    }
   ],
   "source": [
    "%%latex\n",
    "\n",
    "Solution to 3(a)\n",
    "\n",
    "Asked to prove that the Poisson distribution is part of the exponential family.\n",
    "\n",
    "The Poisson distribution is defined as:\n",
    "\n",
    "\\begin{align*}\n",
    "p(y ; \\lambda) &= \\frac{e^{-\\lambda} \\lambda^{y}}{y!}\\\\\n",
    "    &= \\frac{e^{-\\lambda} e^{\\log \\lambda^{y}}}{y!}\\\\\n",
    "    &= \\frac{1}{y!} \\exp (y\\log \\lambda - \\lambda).\\\\\n",
    "\\end{align*}\n",
    "\n",
    "Note that the exponential family is characterised by:\n",
    "\n",
    "$$p(y ; \\eta) = b(y) \\exp [\\eta^{T} T(y) - a(\\eta)].$$\n",
    "\n",
    "So the Poisson distribution is part of the exponential family with $T(y) = y$, $b(y) = \\frac{1}{y!}$, $\\eta = \\log \\lambda$, and $a(\\eta) = \\lambda = \\exp (\\eta)$."
   ]
  },
  {
   "cell_type": "code",
   "execution_count": 4,
   "metadata": {},
   "outputs": [
    {
     "data": {
      "text/latex": [
       "\n",
       "Solution to 3(b)\n",
       "\n",
       "A reminder on what the General Linear Model is: the exponential family only talks about the distribution of data, specifically the outputs $y$. The General Linear Model incorporates the inputs $x$ as well. The assumptions made for General Linear Model are:\n",
       "\n",
       "1) $y \\mid x; \\theta \\sim \\text{ExpFamily}(\\eta)$\n",
       "2) $\\eta = \\theta^{T}x$\n",
       "3) $h_{\\theta} = \\mathbb{E}(y \\mid x; \\theta)$\n",
       "\n",
       "The canonical response function is defined as: $g(\\eta) = \\mathbb{E}(y \\mid \\eta)$. One convenient property of the exponential family is that $\\mathbb{E}(y \\mid \\eta) = \\frac{\\partial}{\\partial \\eta} a(\\eta)$, so in this case, $g(\\eta) = \\exp (\\eta)$.\n"
      ],
      "text/plain": [
       "<IPython.core.display.Latex object>"
      ]
     },
     "metadata": {},
     "output_type": "display_data"
    }
   ],
   "source": [
    "%%latex\n",
    "\n",
    "Solution to 3(b)\n",
    "\n",
    "A reminder on what the General Linear Model is: the exponential family only talks about the distribution of data, specifically the outputs $y$. The General Linear Model incorporates the inputs $x$ as well. The assumptions made for General Linear Model are:\n",
    "\n",
    "1) $y \\mid x; \\theta \\sim \\text{ExpFamily}(\\eta)$\n",
    "2) $\\eta = \\theta^{T}x$\n",
    "3) $h_{\\theta} = \\mathbb{E}(y \\mid x; \\theta)$\n",
    "\n",
    "The canonical response function is defined as: $g(\\eta) = \\mathbb{E}(y \\mid \\eta)$. One convenient property of the exponential family is that $\\mathbb{E}(y \\mid \\eta) = \\frac{\\partial}{\\partial \\eta} a(\\eta)$, so in this case, $g(\\eta) = \\exp (\\eta)$.\n"
   ]
  },
  {
   "cell_type": "code",
   "execution_count": 5,
   "metadata": {},
   "outputs": [
    {
     "data": {
      "text/latex": [
       "\n",
       "Solution to 3(c)\n",
       "\n",
       "\\begin{align*}\n",
       "\\log (p(y^{(i)} \\mid x^{(i)}; \\theta)) &= \\log(1/y^{(i)} \\exp (\\eta^{T}y^{(i)}-\\exp \\eta))\\\\\n",
       "    &= \\log(1/y^{(i)}) + \\eta^{T}y^{(i)} - \\exp \\eta \\\\\n",
       "    &= \\log(1/y^{(i)}) + \\theta^{T}x^{(i)}y^{(i)} - \\exp (\\theta^{T}x^{(i)}) \\\\\n",
       "\\Rightarrow \\frac{\\partial}{\\partial \\theta_j} \\log (p(y^{(i)} \\mid x^{(i)}; \\theta)) &= \\frac{\\partial}{\\partial \\theta_j} \\left[ \\log(1/y^{(i)}) + \\theta^{T}x^{(i)}y^{(i)} - \\exp (\\theta^{T}x^{(i)})\\right] \\\\\n",
       "    &= x_j^{(i)}y^{(i)} - x_j^{(i)}\\exp (\\theta^{T}x^{(i)}) \\\\\n",
       "    &= (y^{(i)} - \\exp (\\theta^{T}x^{(i)}))x_j^{(i)}\n",
       "\\end{align*}\n",
       "\n",
       "Substituting this into the gradient ascent update rule, we get:\n",
       "\n",
       "$$\\theta_j \\mapsto \\theta_j + \\alpha (y^{(i)} - \\exp (\\theta^{T}x^{(i)}))x_j^{(i)}$$\n",
       "\n",
       "Remark: it is actually generally true that the gradient ascent update rule for any general linear model is given by\n",
       "\n",
       "$$\\theta_j \\mapsto \\theta_j + \\alpha (y^{(i)} - h_{\\theta}(x^{(i)}))x_j^{(i)}$$\n",
       "\n",
       "where $h_{\\theta}$ is the canonical response function. In this case, $h_{\\theta} = \\exp (\\theta^{T}x^{(i)})$ since dealing with the Poisson distribution.\n"
      ],
      "text/plain": [
       "<IPython.core.display.Latex object>"
      ]
     },
     "metadata": {},
     "output_type": "display_data"
    }
   ],
   "source": [
    "%%latex\n",
    "\n",
    "Solution to 3(c)\n",
    "\n",
    "\\begin{align*}\n",
    "\\log (p(y^{(i)} \\mid x^{(i)}; \\theta)) &= \\log(1/y^{(i)} \\exp (\\eta^{T}y^{(i)}-\\exp \\eta))\\\\\n",
    "    &= \\log(1/y^{(i)}) + \\eta^{T}y^{(i)} - \\exp \\eta \\\\\n",
    "    &= \\log(1/y^{(i)}) + \\theta^{T}x^{(i)}y^{(i)} - \\exp (\\theta^{T}x^{(i)}) \\\\\n",
    "\\Rightarrow \\frac{\\partial}{\\partial \\theta_j} \\log (p(y^{(i)} \\mid x^{(i)}; \\theta)) &= \\frac{\\partial}{\\partial \\theta_j} \\left[ \\log(1/y^{(i)}) + \\theta^{T}x^{(i)}y^{(i)} - \\exp (\\theta^{T}x^{(i)})\\right] \\\\\n",
    "    &= x_j^{(i)}y^{(i)} - x_j^{(i)}\\exp (\\theta^{T}x^{(i)}) \\\\\n",
    "    &= (y^{(i)} - \\exp (\\theta^{T}x^{(i)}))x_j^{(i)}\n",
    "\\end{align*}\n",
    "\n",
    "Substituting this into the gradient ascent update rule, we get:\n",
    "\n",
    "$$\\theta_j \\mapsto \\theta_j + \\alpha (y^{(i)} - \\exp (\\theta^{T}x^{(i)}))x_j^{(i)}$$\n",
    "\n",
    "Remark: it is actually generally true that the gradient ascent update rule for any general linear model is given by\n",
    "\n",
    "$$\\theta_j \\mapsto \\theta_j + \\alpha (y^{(i)} - h_{\\theta}(x^{(i)}))x_j^{(i)}$$\n",
    "\n",
    "where $h_{\\theta}$ is the canonical response function. In this case, $h_{\\theta} = \\exp (\\theta^{T}x^{(i)})$ since dealing with the Poisson distribution."
   ]
  },
  {
   "cell_type": "code",
   "execution_count": 23,
   "metadata": {},
   "outputs": [
    {
     "data": {
      "image/png": "[encoded data removed]",
      "text/plain": [
       "<Figure size 640x480 with 1 Axes>"
      ]
     },
     "metadata": {},
     "output_type": "display_data"
    }
   ],
   "source": [
    "import numpy as np\n",
    "import util\n",
    "import matplotlib.pyplot as plt\n",
    "\n",
    "from linear_model import LinearModel\n",
    "\n",
    "# Solution to 3(d)\n",
    "\n",
    "def main(lr, train_path, eval_path, pred_path):\n",
    "    \"\"\"Problem 3(d): Poisson regression with gradient ascent.\n",
    "\n",
    "    Args:\n",
    "        lr: Learning rate for gradient ascent.\n",
    "        train_path: Path to CSV file containing dataset for training.\n",
    "        eval_path: Path to CSV file containing dataset for evaluation.\n",
    "        pred_path: Path to save predictions.\n",
    "    \"\"\"\n",
    "    # Load training set\n",
    "    x_train, y_train = util.load_dataset(train_path, add_intercept=False)\n",
    "\n",
    "    # *** START CODE HERE ***\n",
    "\n",
    "    # Initialise Poisson regression model\n",
    "    clf = PoissonRegression(step_size=lr)\n",
    "    clf.fit(x_train, y_train)\n",
    "    # Import the validation data set\n",
    "    x_eval, y_eval = util.load_dataset(eval_path, add_intercept=False)\n",
    "    y_pred = clf.predict(x_eval)\n",
    "    # Plot the decision boundary on validation data set\n",
    "    plt.figure()\n",
    "    plt.plot(y_pred, y_eval, linestyle=\"\", marker=\"o\")\n",
    "    plt.xlabel('Predicted number of visitors per day')\n",
    "    plt.ylabel('True number of visitors per day')\n",
    "    # Record predictions on validation set\n",
    "    #y_pred = clf.predict(x_eval)\n",
    "    # Save outputs to pred_path\n",
    "    #np.savetext(y_pred, pred_path) \n",
    "    \n",
    "    # *** END CODE HERE ***\n",
    "\n",
    "\n",
    "class PoissonRegression(LinearModel):\n",
    "    \"\"\"Poisson Regression.\n",
    "\n",
    "    Example usage:\n",
    "        > clf = PoissonRegression(step_size=lr)\n",
    "        > clf.fit(x_train, y_train)\n",
    "        > clf.predict(x_eval)\n",
    "    \"\"\"\n",
    "\n",
    "    def fit(self, x, y):\n",
    "        \"\"\"Run gradient ascent to maximize likelihood for Poisson regression.\n",
    "\n",
    "        Args:\n",
    "            x: Training example inputs. Shape (m, n).\n",
    "            y: Training example labels. Shape (m,).\n",
    "        \"\"\"\n",
    "        # *** START CODE HERE ***\n",
    "\n",
    "        # Initialise theta\n",
    "        self.theta = np.zeros(x.shape[1])\n",
    "        # Run gradient ascent (in matrix form)\n",
    "        while True:\n",
    "            gradient = x.T @ (y - np.exp(x @ self.theta))\n",
    "            old_theta = np.copy(self.theta)\n",
    "            self.theta += self.step_size * gradient / x.shape[0]\n",
    "            if np.linalg.norm(self.theta - old_theta) < self.eps:\n",
    "                break\n",
    "\n",
    "        # *** END CODE HERE ***\n",
    "\n",
    "    def predict(self, x):\n",
    "        \"\"\"Make a prediction given inputs x.\n",
    "\n",
    "        Args:\n",
    "            x: Inputs of shape (m, n).\n",
    "\n",
    "        Returns:\n",
    "            Floating-point prediction for each input, shape (m,).\n",
    "        \"\"\"\n",
    "        # *** START CODE HERE ***\n",
    "\n",
    "        # The canonical response function found from previous exercise\n",
    "        return np.exp(x @ self.theta)\n",
    "\n",
    "        # *** END CODE HERE ***\n",
    "\n",
    "\n",
    "# Experiment with learning rate\n",
    "if __name__ == '__main__':\n",
    "    main(lr=1e-7, train_path='../data/ds4_train.csv', eval_path='../data/ds4_valid.csv', pred_path='./output/3d-predictions.txt')\n"
   ]
  }
 ],
 "metadata": {
  "kernelspec": {
   "display_name": "Python 3",
   "language": "python",
   "name": "python3"
  },
  "language_info": {
   "codemirror_mode": {
    "name": "ipython",
    "version": 3
   },
   "file_extension": ".py",
   "mimetype": "text/x-python",
   "name": "python",
   "nbconvert_exporter": "python",
   "pygments_lexer": "ipython3",
   "version": "3.8.10"
  },
  "orig_nbformat": 4,
  "vscode": {
   "interpreter": {
    "hash": "916dbcbb3f70747c44a77c7bcd40155683ae19c65e1c03b4aa3499c5328201f1"
   }
  }
 },
 "nbformat": 4,
 "nbformat_minor": 2
}
