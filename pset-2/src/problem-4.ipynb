{
 "cells": [
  {
   "attachments": {},
   "cell_type": "markdown",
   "metadata": {},
   "source": [
    "<font size=\"5\"> Solution to 4(a) </font>\n",
    "\n",
    "This question deals only with square matrices. Also, will temporarily use the notation $K^{(i, j)}$ to denote the $i$ th row and $j$ th column of a matrix $K$ and will overload notation so that $K$ can be both the kernel function and the matrix of kernel values.\n",
    "\n",
    "(a): $K(x, z) = K_1(x, z) + K_2(x, z)$ is a valid kernel function because the sum of two symmetric PSD matrices is symmetric PSD. Symmetry: $K^{(i, j)} = K_1^{(i, j)} + K_2^{(i, j)} = K_1^{(j, i)} + K_2^{(j, i)} = K^{(j, i)}$. PSD: $v^T(K_1+K_2)v= v^T K_1v + v^T K_2v \\geq 0$ for all $v$.\n",
    "\n",
    "(b): $K(x, z) = K_1(x, z) - K_2(x, z)$ is not a valid kernel function because the difference of two PSD matrices is not necessarily PSD. For example, suppose $K_1 = I$ and $K_2 = 2I$ where $I$ is the identity matrix. Then $K=-I$, which is not PSD.\n",
    "\n",
    "(c): Implicitly it seems $a>0$ is assumed (otherwise part (d) would not make sense). Then $K(x, z) = aK_1(x, z)$ is a valid kernel function. Symmetry: $K^{(i, j)} = aK_1^{(i, j)} = aK_1^{(j, i)} = aK^{(j, i)}$. PSD: $v^T aK_1v = a v^T K_1v \\geq 0$ for all $v$.\n",
    "\n",
    "(d): $K(x, z) = -aK_1(x, z)$ is not a valid kernel function. For example, suppose $K_1$ is the identity matrix. Then $K=-aK_1$ is the negative identity matrix, which is not PSD.\n",
    "\n",
    "(e): $K(x, z) = K_1(x, z)K_2(x, z)$ is a valid kernel function. Symmetry: $K^{(i, j)} = K_1^{(i, j)}K_2^{(i, j)} = K_1^{(j, i)}K_2^{(j, i)} = K^{(j, i)}$.\n",
    "\n",
    "The preservation of PSD-ness is harder to see.\n",
    "\n",
    "Let $K = K_1 K_2$ and $v^T K v = \\sum_{i=1}^m \\sum_{j=1}^m v_i v_j K_1^{(i, j)} K_2^{(i, j)}$. Suppose  that $\\phi_1$ is the feature map for $K_1$ and $\\phi_2$ is the feature map for $K_2$. Then $v^T K v = \\sum_{i=1}^m \\sum_{j=1}^m v_i v_j \\phi_1(x^{(i)})^T \\phi_1(x^{(j)}) \\phi_2(x^{(i)})^T \\phi_2(x^{(j)})$. Can write $\\phi_1(x^{(i)})^T \\phi_1(x^{(i)})$ as $\\sum_{k} \\phi_1(x^{(i)})_k \\phi_1(x^{(i)})_k$ and $\\phi_2(x^{(i)})^T \\phi_2(x^{(i)})$ as $\\sum_{\\ell} \\phi_2(x^{(i)})_\\ell \\phi_2(x^{(i)})_\\ell$. Two things to note: we're denoting here the $k$ th entry of the vector $\\phi_1(x^{(i)})$ as $\\phi_1(x^{(i)})_k$, and the dimension of these vectors are arbitrary (could be infinite). This is a bit troubling for the below where order of summation is exchanged which could involve infinite sums, but we'll ignore these issues about rigour for now. Substituting in these expressions, have \n",
    "\n",
    "\\begin{align*}\n",
    "v^T K v &= \\sum_{i=1}^m \\sum_{j=1}^m v_i v_j \\sum_{k} \\phi_1(x^{(i)})_k \\phi_1(x^{(j)})_k \\sum_{\\ell} \\phi_2(x^{(i)})_\\ell \\phi_2(x^{(j)})_\\ell \\\\\n",
    "&= \\sum_{i=1}^m \\sum_{j=1}^m \\sum_{k} \\sum_{\\ell} v_i v_j \\phi_1(x^{(i)})_k \\phi_1(x^{(j)})_k \\phi_2(x^{(i)})_\\ell \\phi_2(x^{(j)})_\\ell \\\\\n",
    "&= \\sum_{i=1}^m \\sum_{j=1}^m \\sum_{k} \\sum_{\\ell} v_i \\phi_1(x^{(i)})_k \\phi_2(x^{(i)})_\\ell v_j \\phi_1(x^{(j)})_k \\phi_2(x^{(j)})_\\ell \\\\\n",
    "&= \\sum_{k} \\sum_{\\ell} \\left(\\sum_{i=1}^m (v_i \\phi_1(x^{(i)})_k \\phi_2(x^{(i)})_\\ell)\\right)^2 \\\\\n",
    "&\\geq 0\n",
    "\\end{align*}\n",
    "\n",
    "In the second to last line above, we used the trick $\\sum_i\\sum_j a_i a_j = (\\sum_i a_i)^2$\n",
    "\n",
    "(f) $K(x, z) = f(x)f(z)$, where $f: \\mathbb{R}^n \\rightarrow \\mathbb{R}$, is a valid kernel function. Mercer's theorem is not required here, since this is virtually the definition of a kernel function, which is that $K(x, z) = \\phi(x)^T \\phi(z)$ for some feature map $\\phi$. This is the special case where $\\phi(x) = f(x)$, and in one dimension, $f(x)^T = f(x)$.\n",
    "\n",
    "(g) $K(x, z) = K_3(\\phi(x), \\phi(z))$ is a valid kernel function. Symmetry follows from symmetry of $K_3$. PSD: $v^T Kv = \\sum_i \\sum_j v_i v_j K_3^{(i, j)} = \\sum_i \\sum_j v_i v_j K(\\phi(x^{(i)}), \\phi(x^{(j)}))$. Suppose that the feature map for $K_3$ is $\\psi$. Then can write $\\sum_i \\sum_j v_i v_j K(\\phi(x^{(i)}), \\phi(x^{(j)})) = \\sum_i \\sum_j v_i v_j \\psi(\\phi(x^{(i)}))^T\\psi(\\phi(x^{(i)})) \\psi(\\phi(x^{(j)}))^T\\psi(\\phi(x^{(j)})) = \\sum_i \\sum_j v_i v_j \\sum_k \\psi(\\phi(x^{(i)}))_k \\psi(\\phi(x^{(i)}))_k \\sum_{\\ell} \\psi(\\phi(x^{(j)}))_{\\ell}\\psi(\\phi(x^{(j)}))_{\\ell} = \\sum_k \\sum_{\\ell} \\sum_i \\left( v_i \\psi(\\phi(x^{(i)})) \\psi(\\phi(x^{(j)}))\\right)^2$\n",
    "\n",
    "(H) $K(x, z) = p(K_1(x, z))$ is a valid kernel function, $p$ is specified as being a polynomial with positive coefficients, and we've proven that sums and products of kernel functions were valid kernel functions already in previous parts."
   ]
  }
 ],
 "metadata": {
  "kernelspec": {
   "display_name": "Python 3",
   "language": "python",
   "name": "python3"
  },
  "language_info": {
   "name": "python",
   "version": "3.8.10"
  },
  "orig_nbformat": 4,
  "vscode": {
   "interpreter": {
    "hash": "15312389fa51bcb29fe9963781c4ce50a0f51189ba0dc67d71b16946675dd986"
   }
  }
 },
 "nbformat": 4,
 "nbformat_minor": 2
}
