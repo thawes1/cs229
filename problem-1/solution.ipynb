{
 "cells": [
  {
   "cell_type": "code",
   "execution_count": 74,
   "metadata": {},
   "outputs": [
    {
     "data": {
      "text/latex": [
       "\n",
       "Solution to 1(a):\n",
       "\n",
       "We are first asked to find the Hessian of $J(\\theta) = \\frac{-1}{m} \\sum_{i=1}^m y^{(i)} \\log h_\\theta(x^{(i)}) + (1 - y^{(i)}) \\log (1 - h_\\theta(x^{(i)}))$. We will be replacing $h_\\theta(x^{(i)})$ with $g(\\theta^T x^{(i)})$ where $g(z) = \\frac{1}{1 + e^{-z}}$ so that we can make the work a bit cleaner by exploiting the fact that $g'(z) = g(z)(1 - g(z))$.\n",
       "\n",
       "Firstly, let's start by computing $\\frac{\\partial}{\\partial \\theta_j} J(\\theta)$. We have:\n",
       "\n",
       "\\begin{align*}\n",
       "\n",
       "\\frac{\\partial}{\\partial \\theta_j} J(\\theta) &= \\frac{-1}{m} \\sum_{i=1}^m \\frac{\\partial}{\\partial \\theta_j} y^{(i)} \\log g(\\theta^T x^{(i)}) + (1 - y^{(i)}) \\log (1 - g(\\theta^T x^{(i)})) \\\\\n",
       "&= \\frac{-1}{m} \\sum_{i=1}^m y^{(i)} \\frac{1}{g(\\theta^T x^{(i)})} \\frac{\\partial}{\\partial \\theta_j} g(\\theta^T x^{(i)}) + (1 - y^{(i)}) \\frac{1}{1 - g(\\theta^T x^{(i)})} \\frac{\\partial}{\\partial \\theta_j} (1 - g(\\theta^T x^{(i)})) \\\\\n",
       "&= \\frac{-1}{m} \\sum_{i=1}^m y^{(i)} \\frac{1}{g(\\theta^T x^{(i)})} g(\\theta^T x^{(i)}) (1 - g(\\theta^T x^{(i)})) \\frac{\\partial}{\\partial \\theta_j} (\\theta^T x^{(i)}) - (1 - y^{(i)}) \\frac{1}{1 - g(\\theta^T x^{(i)})} g(\\theta^T x^{(i)}) (1 - g(\\theta^T x^{(i)})) \\frac{\\partial}{\\partial \\theta_j} (-\\theta^T x^{(i)}) \\\\\n",
       "&= \\frac{-1}{m} \\sum_{i=1}^m y^{(i)} \\frac{1}{g(\\theta^T x^{(i)})} g(\\theta^T x^{(i)}) (1 - g(\\theta^T x^{(i)})) x_j^{(i)} - (1 - y^{(i)}) \\frac{1}{1 - g(\\theta^T x^{(i)})} g(\\theta^T x^{(i)}) (1 - g(\\theta^T x^{(i)})) (-x_j^{(i)}) \\\\\n",
       "&= \\frac{-1}{m} \\sum_{i=1}^m y^{(i)} (1 - g(\\theta^T x^{(i)})) x_j^{(i)} - (1 - y^{(i)}) g(\\theta^T x^{(i)}) x_j^{(i)} \\\\\n",
       "&= \\frac{-1}{m} \\sum_{i=1}^m (y^{(i)} - g(\\theta^T x^{(i)})) x_j^{(i)}\n",
       "\\end{align*}\n",
       "\n",
       "Finally, we do one more partial derivative to get the Hessian:\n",
       "\n",
       "\\begin{align*}\n",
       "\n",
       "H_{kj} &= \\frac{\\partial}{\\partial \\theta_k} \\frac{\\partial}{\\partial \\theta_j} J(\\theta) \\\\\n",
       "&= \\frac{-1}{m} \\sum_{i=1}^m \\frac{\\partial}{\\partial \\theta_k} (y^{(i)} - g(\\theta^T x^{(i)})) x_j^{(i)} \\\\\n",
       "&= \\frac{-1}{m} \\sum_{i=1}^m \\frac{\\partial}{\\partial \\theta_k} (-g(\\theta^T x^{(i)}) x_j^{(i)}) \\\\\n",
       "&= \\frac{1}{m} \\sum_{i=1}^m g(\\theta^T x^{(i)}) (1 - g(\\theta^T x^{(i)})) x_j^{(i)} x_k^{(i)} \n",
       "\n",
       "\\end{align*}\n",
       "\n",
       "Finally, we are asked to prove that $H$ is such that $z^T H z \\geq 0$ for all $z$. Start by noting that $Hz$ is just another vector, say $v$. Then $z^T H z = z^T v = \\sum_{k} z_k v_k$. Note that $v_k = \\sum_{j} H_{kj} z_j$. So we have:\n",
       "\n",
       "\\begin{align*}\n",
       "z^T H z &= \\sum_{k} z_k \\sum_{j} H_{kj} z_j \\\\\n",
       "&= \\sum_{k} z_k \\sum_{j} \\frac{1}{m} \\sum_{i} g(\\theta^T x^{(i)}) (1 - g(\\theta^T x^{(i)})) x_j^{(i)} x_k^{(i)} z_j \\\\\n",
       "&= \\frac{1}{m} \\sum_{i} g(\\theta^T x^{(i)}) (1 - g(\\theta^T x^{(i)})) \\sum_{k} \\sum_{j} z_k x_k^{(i)} z_j x_j^{(i)}  \\\\\n",
       "&= \\frac{1}{m} \\sum_{i} g(\\theta^T x^{(i)}) (1 - g(\\theta^T x^{(i)})) ((x^{(i)})^T z)^2 \\\\\n",
       "&\\geq 0\n",
       "\n",
       "\\end{align*}\n",
       "\n",
       "We used the fact that $\\sum_{k} \\sum_{j} z_k x_k^{(i)} z_j x_j^{(i)} = ((x^{(i)})^T z)^2$. This is true because $\\sum_{k} \\sum_{j} z_k x_k^{(i)} z_j x_j^{(i)} = \\sum_{k} z_k x_k^{(i)} \\sum_{j} z_j x_j^{(i)} = ((x^{(i)})^T z)^2$. Furthermore, we used the fact that $g(\\theta^T x^{(i)}) (1 - g(\\theta^T x^{(i)})) \\geq 0$. But this is true because $g(\\theta^T x^{(i)}) \\in [0, 1]$ and therefore $1 - g(\\theta^T x^{(i)}) \\in [0, 1]$ as well. So the second to last line is above is a sum of non-negative numbers, and therefore the result is something non-negative.\n"
      ],
      "text/plain": [
       "<IPython.core.display.Latex object>"
      ]
     },
     "metadata": {},
     "output_type": "display_data"
    }
   ],
   "source": [
    "%%latex\n",
    "\n",
    "Solution to 1(a):\n",
    "\n",
    "We are first asked to find the Hessian of $J(\\theta) = \\frac{-1}{m} \\sum_{i=1}^m y^{(i)} \\log h_\\theta(x^{(i)}) + (1 - y^{(i)}) \\log (1 - h_\\theta(x^{(i)}))$. We will be replacing $h_\\theta(x^{(i)})$ with $g(\\theta^T x^{(i)})$ where $g(z) = \\frac{1}{1 + e^{-z}}$ so that we can make the work a bit cleaner by exploiting the fact that $g'(z) = g(z)(1 - g(z))$.\n",
    "\n",
    "Firstly, let's start by computing $\\frac{\\partial}{\\partial \\theta_j} J(\\theta)$. We have:\n",
    "\n",
    "\\begin{align*}\n",
    "\n",
    "\\frac{\\partial}{\\partial \\theta_j} J(\\theta) &= \\frac{-1}{m} \\sum_{i=1}^m \\frac{\\partial}{\\partial \\theta_j} y^{(i)} \\log g(\\theta^T x^{(i)}) + (1 - y^{(i)}) \\log (1 - g(\\theta^T x^{(i)})) \\\\\n",
    "&= \\frac{-1}{m} \\sum_{i=1}^m y^{(i)} \\frac{1}{g(\\theta^T x^{(i)})} \\frac{\\partial}{\\partial \\theta_j} g(\\theta^T x^{(i)}) + (1 - y^{(i)}) \\frac{1}{1 - g(\\theta^T x^{(i)})} \\frac{\\partial}{\\partial \\theta_j} (1 - g(\\theta^T x^{(i)})) \\\\\n",
    "&= \\frac{-1}{m} \\sum_{i=1}^m y^{(i)} \\frac{1}{g(\\theta^T x^{(i)})} g(\\theta^T x^{(i)}) (1 - g(\\theta^T x^{(i)})) \\frac{\\partial}{\\partial \\theta_j} (\\theta^T x^{(i)}) - (1 - y^{(i)}) \\frac{1}{1 - g(\\theta^T x^{(i)})} g(\\theta^T x^{(i)}) (1 - g(\\theta^T x^{(i)})) \\frac{\\partial}{\\partial \\theta_j} (-\\theta^T x^{(i)}) \\\\\n",
    "&= \\frac{-1}{m} \\sum_{i=1}^m y^{(i)} \\frac{1}{g(\\theta^T x^{(i)})} g(\\theta^T x^{(i)}) (1 - g(\\theta^T x^{(i)})) x_j^{(i)} - (1 - y^{(i)}) \\frac{1}{1 - g(\\theta^T x^{(i)})} g(\\theta^T x^{(i)}) (1 - g(\\theta^T x^{(i)})) (-x_j^{(i)}) \\\\\n",
    "&= \\frac{-1}{m} \\sum_{i=1}^m y^{(i)} (1 - g(\\theta^T x^{(i)})) x_j^{(i)} - (1 - y^{(i)}) g(\\theta^T x^{(i)}) x_j^{(i)} \\\\\n",
    "&= \\frac{-1}{m} \\sum_{i=1}^m (y^{(i)} - g(\\theta^T x^{(i)})) x_j^{(i)}\n",
    "\\end{align*}\n",
    "\n",
    "Finally, we do one more partial derivative to get the Hessian:\n",
    "\n",
    "\\begin{align*}\n",
    "\n",
    "H_{kj} &= \\frac{\\partial}{\\partial \\theta_k} \\frac{\\partial}{\\partial \\theta_j} J(\\theta) \\\\\n",
    "&= \\frac{-1}{m} \\sum_{i=1}^m \\frac{\\partial}{\\partial \\theta_k} (y^{(i)} - g(\\theta^T x^{(i)})) x_j^{(i)} \\\\\n",
    "&= \\frac{-1}{m} \\sum_{i=1}^m \\frac{\\partial}{\\partial \\theta_k} (-g(\\theta^T x^{(i)}) x_j^{(i)}) \\\\\n",
    "&= \\frac{1}{m} \\sum_{i=1}^m g(\\theta^T x^{(i)}) (1 - g(\\theta^T x^{(i)})) x_j^{(i)} x_k^{(i)} \n",
    "\n",
    "\\end{align*}\n",
    "\n",
    "Finally, we are asked to prove that $H$ is such that $z^T H z \\geq 0$ for all $z$. Start by noting that $Hz$ is just another vector, say $v$. Then $z^T H z = z^T v = \\sum_{k} z_k v_k$. Note that $v_k = \\sum_{j} H_{kj} z_j$. So we have:\n",
    "\n",
    "\\begin{align*}\n",
    "z^T H z &= \\sum_{k} z_k \\sum_{j} H_{kj} z_j \\\\\n",
    "&= \\sum_{k} z_k \\sum_{j} \\frac{1}{m} \\sum_{i} g(\\theta^T x^{(i)}) (1 - g(\\theta^T x^{(i)})) x_j^{(i)} x_k^{(i)} z_j \\\\\n",
    "&= \\frac{1}{m} \\sum_{i} g(\\theta^T x^{(i)}) (1 - g(\\theta^T x^{(i)})) \\sum_{k} \\sum_{j} z_k x_k^{(i)} z_j x_j^{(i)}  \\\\\n",
    "&= \\frac{1}{m} \\sum_{i} g(\\theta^T x^{(i)}) (1 - g(\\theta^T x^{(i)})) ((x^{(i)})^T z)^2 \\\\\n",
    "&\\geq 0\n",
    "\n",
    "\\end{align*}\n",
    "\n",
    "We used the fact that $\\sum_{k} \\sum_{j} z_k x_k^{(i)} z_j x_j^{(i)} = ((x^{(i)})^T z)^2$. This is true because $\\sum_{k} \\sum_{j} z_k x_k^{(i)} z_j x_j^{(i)} = \\sum_{k} z_k x_k^{(i)} \\sum_{j} z_j x_j^{(i)} = ((x^{(i)})^T z)^2$. Furthermore, we used the fact that $g(\\theta^T x^{(i)}) (1 - g(\\theta^T x^{(i)})) \\geq 0$. But this is true because $g(\\theta^T x^{(i)}) \\in [0, 1]$ and therefore $1 - g(\\theta^T x^{(i)}) \\in [0, 1]$ as well. So the second to last line is above is a sum of non-negative numbers, and therefore the result is something non-negative."
   ]
  }
 ],
 "metadata": {
  "kernelspec": {
   "display_name": "Python 3",
   "language": "python",
   "name": "python3"
  },
  "language_info": {
   "codemirror_mode": {
    "name": "ipython",
    "version": 3
   },
   "file_extension": ".py",
   "mimetype": "text/x-python",
   "name": "python",
   "nbconvert_exporter": "python",
   "pygments_lexer": "ipython3",
   "version": "3.8.10"
  },
  "orig_nbformat": 4,
  "vscode": {
   "interpreter": {
    "hash": "916dbcbb3f70747c44a77c7bcd40155683ae19c65e1c03b4aa3499c5328201f1"
   }
  }
 },
 "nbformat": 4,
 "nbformat_minor": 2
}
